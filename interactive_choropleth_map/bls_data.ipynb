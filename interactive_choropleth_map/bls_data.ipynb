{
 "metadata": {
  "language_info": {
   "codemirror_mode": {
    "name": "ipython",
    "version": 3
   },
   "file_extension": ".py",
   "mimetype": "text/x-python",
   "name": "python",
   "nbconvert_exporter": "python",
   "pygments_lexer": "ipython3",
   "version": "3.8.8"
  },
  "orig_nbformat": 4,
  "kernelspec": {
   "name": "python3",
   "display_name": "Python 3.8.8 64-bit ('PythonData': conda)"
  },
  "interpreter": {
   "hash": "54e8119b40d2fdc5e54d14e0846c2ed0cc09c1bdbc8e2dfced23990a0351e4f6"
  }
 },
 "nbformat": 4,
 "nbformat_minor": 2,
 "cells": [
  {
   "cell_type": "code",
   "execution_count": 2,
   "metadata": {},
   "outputs": [],
   "source": [
    "import re\n",
    "import pymongo\n",
    "import datetime\n",
    "import pandas as pd\n",
    "from splinter import Browser\n",
    "from selenium import webdriver\n",
    "from bs4 import BeautifulSoup as bs\n",
    "from selenium.webdriver.chrome.options import Options\n",
    "from webdriver_manager.chrome import ChromeDriverManager"
   ]
  },
  {
   "cell_type": "code",
   "execution_count": 34,
   "metadata": {
    "tags": []
   },
   "outputs": [
    {
     "output_type": "stream",
     "name": "stderr",
     "text": [
      "\n",
      "\n",
      "====== WebDriver manager ======\n",
      "Current google-chrome version is 91.0.4472\n",
      "Get LATEST driver version for 91.0.4472\n",
      "Driver [/Users/justin/.wdm/drivers/chromedriver/mac64/91.0.4472.101/chromedriver] found in cache\n",
      "https://beta.bls.gov/dataQuery/find?st=100&r=100&q=data+scientists&more=0\n"
     ]
    },
    {
     "output_type": "execute_result",
     "data": {
      "text/plain": [
       "                        linkID  \\\n",
       "0    OEUN000000051800015209801   \n",
       "1    OEUN000000051820015209801   \n",
       "2    OEUN000000051700015209801   \n",
       "3    OEUN000000051800015209803   \n",
       "4    OEUN000000051800015209804   \n",
       "..                         ...   \n",
       "195  OEUN000000061100315209801   \n",
       "196  OEUN000000061130015209801   \n",
       "197  OEUN000000061120215209801   \n",
       "198  OEUN000000061120315209801   \n",
       "199  OEUN000000056150015209801   \n",
       "\n",
       "                                           description  \\\n",
       "0     Employment for Data Scientists and Mathematic...   \n",
       "1     Employment for Data Scientists and Mathematic...   \n",
       "2     Employment for Data Scientists and Mathematic...   \n",
       "3     Hourly mean wage for Data Scientists and Math...   \n",
       "4     Annual mean wage for Data Scientists and Math...   \n",
       "..                                                 ...   \n",
       "195   Employment for Data Scientists and Mathematic...   \n",
       "196   Employment for Data Scientists and Mathematic...   \n",
       "197   Employment for Data Scientists and Mathematic...   \n",
       "198   Employment for Data Scientists and Mathematic...   \n",
       "199   Employment for Data Scientists and Mathematic...   \n",
       "\n",
       "                                                   url  \n",
       "0    https://beta.bls.gov/dataViewer/view/timeserie...  \n",
       "1    https://beta.bls.gov/dataViewer/view/timeserie...  \n",
       "2    https://beta.bls.gov/dataViewer/view/timeserie...  \n",
       "3    https://beta.bls.gov/dataViewer/view/timeserie...  \n",
       "4    https://beta.bls.gov/dataViewer/view/timeserie...  \n",
       "..                                                 ...  \n",
       "195  https://beta.bls.gov/dataViewer/view/timeserie...  \n",
       "196  https://beta.bls.gov/dataViewer/view/timeserie...  \n",
       "197  https://beta.bls.gov/dataViewer/view/timeserie...  \n",
       "198  https://beta.bls.gov/dataViewer/view/timeserie...  \n",
       "199  https://beta.bls.gov/dataViewer/view/timeserie...  \n",
       "\n",
       "[200 rows x 3 columns]"
      ],
      "text/html": "<div>\n<style scoped>\n    .dataframe tbody tr th:only-of-type {\n        vertical-align: middle;\n    }\n\n    .dataframe tbody tr th {\n        vertical-align: top;\n    }\n\n    .dataframe thead th {\n        text-align: right;\n    }\n</style>\n<table border=\"1\" class=\"dataframe\">\n  <thead>\n    <tr style=\"text-align: right;\">\n      <th></th>\n      <th>linkID</th>\n      <th>description</th>\n      <th>url</th>\n    </tr>\n  </thead>\n  <tbody>\n    <tr>\n      <th>0</th>\n      <td>OEUN000000051800015209801</td>\n      <td>Employment for Data Scientists and Mathematic...</td>\n      <td>https://beta.bls.gov/dataViewer/view/timeserie...</td>\n    </tr>\n    <tr>\n      <th>1</th>\n      <td>OEUN000000051820015209801</td>\n      <td>Employment for Data Scientists and Mathematic...</td>\n      <td>https://beta.bls.gov/dataViewer/view/timeserie...</td>\n    </tr>\n    <tr>\n      <th>2</th>\n      <td>OEUN000000051700015209801</td>\n      <td>Employment for Data Scientists and Mathematic...</td>\n      <td>https://beta.bls.gov/dataViewer/view/timeserie...</td>\n    </tr>\n    <tr>\n      <th>3</th>\n      <td>OEUN000000051800015209803</td>\n      <td>Hourly mean wage for Data Scientists and Math...</td>\n      <td>https://beta.bls.gov/dataViewer/view/timeserie...</td>\n    </tr>\n    <tr>\n      <th>4</th>\n      <td>OEUN000000051800015209804</td>\n      <td>Annual mean wage for Data Scientists and Math...</td>\n      <td>https://beta.bls.gov/dataViewer/view/timeserie...</td>\n    </tr>\n    <tr>\n      <th>...</th>\n      <td>...</td>\n      <td>...</td>\n      <td>...</td>\n    </tr>\n    <tr>\n      <th>195</th>\n      <td>OEUN000000061100315209801</td>\n      <td>Employment for Data Scientists and Mathematic...</td>\n      <td>https://beta.bls.gov/dataViewer/view/timeserie...</td>\n    </tr>\n    <tr>\n      <th>196</th>\n      <td>OEUN000000061130015209801</td>\n      <td>Employment for Data Scientists and Mathematic...</td>\n      <td>https://beta.bls.gov/dataViewer/view/timeserie...</td>\n    </tr>\n    <tr>\n      <th>197</th>\n      <td>OEUN000000061120215209801</td>\n      <td>Employment for Data Scientists and Mathematic...</td>\n      <td>https://beta.bls.gov/dataViewer/view/timeserie...</td>\n    </tr>\n    <tr>\n      <th>198</th>\n      <td>OEUN000000061120315209801</td>\n      <td>Employment for Data Scientists and Mathematic...</td>\n      <td>https://beta.bls.gov/dataViewer/view/timeserie...</td>\n    </tr>\n    <tr>\n      <th>199</th>\n      <td>OEUN000000056150015209801</td>\n      <td>Employment for Data Scientists and Mathematic...</td>\n      <td>https://beta.bls.gov/dataViewer/view/timeserie...</td>\n    </tr>\n  </tbody>\n</table>\n<p>200 rows × 3 columns</p>\n</div>"
     },
     "metadata": {},
     "execution_count": 34
    }
   ],
   "source": [
    "executable_path = {'executable_path': ChromeDriverManager().install()}\n",
    "browser = Browser('chrome', **executable_path, headless=True)\n",
    "base_url = \"https://beta.bls.gov/dataQuery/\"\n",
    "starting_url = base_url + \"find?q=data+scientists&r=100&st=0\"\n",
    "browser.visit(starting_url)\n",
    "search_html = browser.html\n",
    "soup_search = bs(search_html, 'html.parser')\n",
    "data_query_results = soup_search.find_all(\"div\", class_='dq-result-item')\n",
    "\n",
    "url_dict = {\"linkID\":[],\"description\":[],\"url\":[]}\n",
    "data_query_df = pd.DataFrame([])\n",
    "\n",
    "last_link_on_page = data_query_results[-1].a.get('href')\n",
    "\n",
    "text_parent = soup_search.find_all(\"div\", class_='dq-page-links')\n",
    "pages = text_parent[0].span.text.split()[-1]\n",
    "\n",
    "# want to put number of pages into loop boundary range(pages)\n",
    "for page in range(2):\n",
    "    search_html = browser.html\n",
    "    soup_search = bs(search_html, 'html.parser')\n",
    "    data_query_results = soup_search.find_all(\"div\", class_='dq-result-item')\n",
    "    for result in data_query_results:\n",
    "        result_url = result.a.get('href')\n",
    "        link_title = result.label.get_text()\n",
    "        link_id = result.input.get('value')\n",
    "        # print(link_title)\n",
    "        # print(link_id)\n",
    "        if result_url != last_link_on_page:\n",
    "            url_dict[\"linkID\"].append(link_id)\n",
    "            url_dict[\"description\"].append(link_title)\n",
    "            url_dict[\"url\"].append(result_url)\n",
    "        else:\n",
    "            url_dict[\"linkID\"].append(link_id)\n",
    "            url_dict[\"description\"].append(link_title)\n",
    "            url_dict[\"url\"].append(result_url)\n",
    "            next_div = soup_search.find_all(\"div\", class_='dq-next-page')\n",
    "            next_url = base_url + next_div[0].a.get('href')\n",
    "            print(next_url)\n",
    "    browser.visit(next_url)\n",
    "\n",
    "url_dict_df = pd.DataFrame(url_dict)\n",
    "\n",
    "url_dict_df\n",
    "\n",
    "# <div id=\"dq-num-results-wrapper\">\n",
    "#            Showing Results\n",
    "#            <strong>\n",
    "#             1\n",
    "#                             -\n",
    "#                             100\n",
    "#            </strong>\n",
    "#            of\n",
    "#            <strong>\n",
    "#             5358\n",
    "#            </strong>\n",
    "#           </div>\n",
    "\n"
   ]
  },
  {
   "cell_type": "code",
   "execution_count": 20,
   "metadata": {},
   "outputs": [],
   "source": [
    "browser.quit()"
   ]
  },
  {
   "cell_type": "code",
   "execution_count": 27,
   "metadata": {},
   "outputs": [
    {
     "output_type": "stream",
     "name": "stdout",
     "text": [
      "54\n"
     ]
    }
   ],
   "source": [
    "text_parent = soup_search.find_all(\"div\", class_='dq-page-links')\n",
    "last_page_number = int(text_parent[0].span.text.split()[-1])\n",
    "print(last_page_number)"
   ]
  },
  {
   "cell_type": "code",
   "execution_count": 43,
   "metadata": {},
   "outputs": [
    {
     "output_type": "stream",
     "name": "stderr",
     "text": [
      "\n",
      "\n",
      "====== WebDriver manager ======\n",
      "Current google-chrome version is 91.0.4472\n",
      "Get LATEST driver version for 91.0.4472\n",
      "Driver [/Users/justin/.wdm/drivers/chromedriver/mac64/91.0.4472.101/chromedriver] found in cache\n",
      "https://beta.bls.gov/dataViewer/view/timeseries/OEUN000000051800015209801\n",
      "https://beta.bls.gov/dataViewer/view/timeseries/OEUN000000051820015209801\n",
      "https://beta.bls.gov/dataViewer/view/timeseries/OEUN000000051700015209801\n",
      "https://beta.bls.gov/dataViewer/view/timeseries/OEUN000000051800015209803\n",
      "https://beta.bls.gov/dataViewer/view/timeseries/OEUN000000051800015209804\n",
      "https://beta.bls.gov/dataViewer/view/timeseries/OEUN000000051800015209808\n",
      "https://beta.bls.gov/dataViewer/view/timeseries/OEUN000000051800015209813\n",
      "https://beta.bls.gov/dataViewer/view/timeseries/OEUN000000051820015209803\n",
      "https://beta.bls.gov/dataViewer/view/timeseries/OEUN000000051820015209804\n",
      "https://beta.bls.gov/dataViewer/view/timeseries/OEUN000000051820015209808\n",
      "https://beta.bls.gov/dataViewer/view/timeseries/OEUN000000051820015209813\n",
      "https://beta.bls.gov/dataViewer/view/timeseries/OEUN000000061100015209801\n",
      "https://beta.bls.gov/dataViewer/view/timeseries/OEUN000000056130015209801\n",
      "https://beta.bls.gov/dataViewer/view/timeseries/OEUN000000032500015209801\n",
      "https://beta.bls.gov/dataViewer/view/timeseries/OEUN000000033900015209801\n",
      "https://beta.bls.gov/dataViewer/view/timeseries/OEUN000000051120015209801\n",
      "https://beta.bls.gov/dataViewer/view/timeseries/OEUN000000031100015209801\n",
      "https://beta.bls.gov/dataViewer/view/timeseries/OEUN000000048100015209801\n",
      "https://beta.bls.gov/dataViewer/view/timeseries/OEUN000000045400015209801\n",
      "https://beta.bls.gov/dataViewer/view/timeseries/OEUN000000052410015209801\n",
      "https://beta.bls.gov/dataViewer/view/timeseries/OEUN000000048400015209801\n",
      "https://beta.bls.gov/dataViewer/view/timeseries/OEUN000000054138015209801\n",
      "https://beta.bls.gov/dataViewer/view/timeseries/OEUN000000053100015209801\n",
      "https://beta.bls.gov/dataViewer/view/timeseries/OEUN000000054110015209801\n",
      "https://beta.bls.gov/dataViewer/view/timeseries/OEUN000000054133015209801\n",
      "https://beta.bls.gov/dataViewer/view/timeseries/OEUN000000033300015209801\n",
      "https://beta.bls.gov/dataViewer/view/timeseries/OEUN000000062400015209801\n",
      "https://beta.bls.gov/dataViewer/view/timeseries/OEUN000000071120015209801\n",
      "https://beta.bls.gov/dataViewer/view/timeseries/OEUN000000051800015209806\n",
      "https://beta.bls.gov/dataViewer/view/timeseries/OEUN000000051800015209807\n",
      "https://beta.bls.gov/dataViewer/view/timeseries/OEUN000000051800015209809\n",
      "https://beta.bls.gov/dataViewer/view/timeseries/OEUN000000051800015209810\n",
      "https://beta.bls.gov/dataViewer/view/timeseries/OEUN000000051800015209811\n",
      "https://beta.bls.gov/dataViewer/view/timeseries/OEUN000000051800015209812\n",
      "https://beta.bls.gov/dataViewer/view/timeseries/OEUN000000051800015209814\n",
      "https://beta.bls.gov/dataViewer/view/timeseries/OEUN000000051800015209815\n",
      "https://beta.bls.gov/dataViewer/view/timeseries/OEUN000000051820015209806\n",
      "https://beta.bls.gov/dataViewer/view/timeseries/OEUN000000051820015209807\n",
      "https://beta.bls.gov/dataViewer/view/timeseries/OEUN000000051820015209809\n",
      "https://beta.bls.gov/dataViewer/view/timeseries/OEUN000000051820015209810\n",
      "https://beta.bls.gov/dataViewer/view/timeseries/OEUN000000051820015209811\n",
      "https://beta.bls.gov/dataViewer/view/timeseries/OEUN000000051820015209812\n",
      "https://beta.bls.gov/dataViewer/view/timeseries/OEUN000000051820015209814\n",
      "https://beta.bls.gov/dataViewer/view/timeseries/OEUN000000051820015209815\n",
      "https://beta.bls.gov/dataViewer/view/timeseries/OEUN000000056132015209801\n",
      "https://beta.bls.gov/dataViewer/view/timeseries/OEUN000000056140015209801\n",
      "https://beta.bls.gov/dataViewer/view/timeseries/OEUN000000051900015209801\n",
      "https://beta.bls.gov/dataViewer/view/timeseries/OEUN000000051910015209801\n",
      "https://beta.bls.gov/dataViewer/view/timeseries/OEUN000000051800015122101\n",
      "https://beta.bls.gov/dataViewer/view/timeseries/OEUN000000051700015209803\n",
      "https://beta.bls.gov/dataViewer/view/timeseries/OEUN000000051700015209804\n",
      "https://beta.bls.gov/dataViewer/view/timeseries/OEUN000000051700015209808\n",
      "https://beta.bls.gov/dataViewer/view/timeseries/OEUN000000051820015122101\n",
      "https://beta.bls.gov/dataViewer/view/timeseries/OEUN000000051700015209813\n",
      "https://beta.bls.gov/dataViewer/view/timeseries/OEUN000000022120015209801\n",
      "https://beta.bls.gov/dataViewer/view/timeseries/OEUN000000023800015209801\n",
      "https://beta.bls.gov/dataViewer/view/timeseries/OEUN000000052220015209801\n",
      "https://beta.bls.gov/dataViewer/view/timeseries/OEUN000000051500015209801\n",
      "https://beta.bls.gov/dataViewer/view/timeseries/OEUN000000049310015209801\n",
      "https://beta.bls.gov/dataViewer/view/timeseries/OEUN000000049300015209801\n",
      "https://beta.bls.gov/dataViewer/view/timeseries/OEUN000000048850015209801\n",
      "https://beta.bls.gov/dataViewer/view/timeseries/OEUN000000056120015209801\n",
      "https://beta.bls.gov/dataViewer/view/timeseries/OEUN000000033600015209801\n",
      "https://beta.bls.gov/dataViewer/view/timeseries/OEUN000000033610015209801\n",
      "https://beta.bls.gov/dataViewer/view/timeseries/OEUN000000062200515209801\n",
      "https://beta.bls.gov/dataViewer/view/timeseries/OEUN000000061170015209801\n",
      "https://beta.bls.gov/dataViewer/view/timeseries/OEUN000000062110015209801\n",
      "https://beta.bls.gov/dataViewer/view/timeseries/OEUN000000062140015209801\n",
      "https://beta.bls.gov/dataViewer/view/timeseries/OEUN000000081330015209801\n",
      "https://beta.bls.gov/dataViewer/view/timeseries/WMU00000001020000001520982400\n",
      "https://beta.bls.gov/dataViewer/view/timeseries/OEUN000000051--5215209801\n",
      "https://beta.bls.gov/dataViewer/view/timeseries/OEUN000000023--2415209801\n",
      "https://beta.bls.gov/dataViewer/view/timeseries/OEUN000000051800015209802\n",
      "https://beta.bls.gov/dataViewer/view/timeseries/OEUN000000051800015209805\n",
      "https://beta.bls.gov/dataViewer/view/timeseries/OEUN000000051820015209802\n",
      "https://beta.bls.gov/dataViewer/view/timeseries/OEUN000000051820015209805\n",
      "https://beta.bls.gov/dataViewer/view/timeseries/OEUN000000061110015209801\n",
      "https://beta.bls.gov/dataViewer/view/timeseries/OEUN000000061100015209803\n",
      "https://beta.bls.gov/dataViewer/view/timeseries/OEUN000000061100015209804\n",
      "https://beta.bls.gov/dataViewer/view/timeseries/OEUN000000061100015209808\n",
      "https://beta.bls.gov/dataViewer/view/timeseries/OEUN000000061100015209813\n",
      "https://beta.bls.gov/dataViewer/view/timeseries/OEUN000000061100515209801\n",
      "https://beta.bls.gov/dataViewer/view/timeseries/OEUN000000056130015209803\n",
      "https://beta.bls.gov/dataViewer/view/timeseries/OEUN000000056130015209804\n",
      "https://beta.bls.gov/dataViewer/view/timeseries/OEUN000000056130015209808\n",
      "https://beta.bls.gov/dataViewer/view/timeseries/OEUN000000056130015209813\n",
      "https://beta.bls.gov/dataViewer/view/timeseries/OEUN000000056100015209801\n",
      "https://beta.bls.gov/dataViewer/view/timeseries/OEUN000000032500015209803\n",
      "https://beta.bls.gov/dataViewer/view/timeseries/OEUN000000032500015209804\n",
      "https://beta.bls.gov/dataViewer/view/timeseries/OEUN000000032500015209808\n",
      "https://beta.bls.gov/dataViewer/view/timeseries/OEUN000000032500015209813\n",
      "https://beta.bls.gov/dataViewer/view/timeseries/OEUN000000042300015209801\n",
      "https://beta.bls.gov/dataViewer/view/timeseries/OEUN000000033900015209803\n",
      "https://beta.bls.gov/dataViewer/view/timeseries/OEUN000000033900015209804\n",
      "https://beta.bls.gov/dataViewer/view/timeseries/OEUN000000033900015209808\n",
      "https://beta.bls.gov/dataViewer/view/timeseries/OEUN000000033900015209813\n",
      "https://beta.bls.gov/dataViewer/view/timeseries/OEUN000000052421015209801\n",
      "https://beta.bls.gov/dataViewer/view/timeseries/OEUN000000052110015209801\n",
      "https://beta.bls.gov/dataViewer/view/timeseries/OEUN000000052100015209801\n",
      "https://beta.bls.gov/dataViewer/view/timeseries/OEUN000000051120015209803\n"
     ]
    }
   ],
   "source": [
    "executable_path = {'executable_path': ChromeDriverManager().install()}\n",
    "browser = Browser('chrome', **executable_path, headless=True)\n",
    "\n",
    "# seriesDataTable1\n",
    "\n",
    "for url in range(len(url_dict[\"url\"])):\n",
    "    print(url_dict[\"url\"][url])"
   ]
  },
  {
   "cell_type": "code",
   "execution_count": 15,
   "metadata": {},
   "outputs": [
    {
     "output_type": "execute_result",
     "data": {
      "text/plain": [
       "    AREA AREA_TITLE  AREA_TYPE PRIM_STATE  NAICS     NAICS_TITLE  \\\n",
       "77     1    Alabama          2         AL      0  Cross-industry   \n",
       "\n",
       "           I_GROUP  OWN_CODE OCC_CODE  \\\n",
       "77  cross-industry      1235  15-2098   \n",
       "\n",
       "                                            OCC_TITLE  ... H_MEDIAN H_PCT75  \\\n",
       "77  Data Scientists and Mathematical Science Occup...  ...    43.55   50.79   \n",
       "\n",
       "   H_PCT90 A_PCT10 A_PCT25  A_MEDIAN  A_PCT75  A_PCT90 ANNUAL HOURLY  \n",
       "77   58.59  56,510  74,460    90,590  105,650  121,870    NaN    NaN  \n",
       "\n",
       "[1 rows x 31 columns]"
      ],
      "text/html": "<div>\n<style scoped>\n    .dataframe tbody tr th:only-of-type {\n        vertical-align: middle;\n    }\n\n    .dataframe tbody tr th {\n        vertical-align: top;\n    }\n\n    .dataframe thead th {\n        text-align: right;\n    }\n</style>\n<table border=\"1\" class=\"dataframe\">\n  <thead>\n    <tr style=\"text-align: right;\">\n      <th></th>\n      <th>AREA</th>\n      <th>AREA_TITLE</th>\n      <th>AREA_TYPE</th>\n      <th>PRIM_STATE</th>\n      <th>NAICS</th>\n      <th>NAICS_TITLE</th>\n      <th>I_GROUP</th>\n      <th>OWN_CODE</th>\n      <th>OCC_CODE</th>\n      <th>OCC_TITLE</th>\n      <th>...</th>\n      <th>H_MEDIAN</th>\n      <th>H_PCT75</th>\n      <th>H_PCT90</th>\n      <th>A_PCT10</th>\n      <th>A_PCT25</th>\n      <th>A_MEDIAN</th>\n      <th>A_PCT75</th>\n      <th>A_PCT90</th>\n      <th>ANNUAL</th>\n      <th>HOURLY</th>\n    </tr>\n  </thead>\n  <tbody>\n    <tr>\n      <th>77</th>\n      <td>1</td>\n      <td>Alabama</td>\n      <td>2</td>\n      <td>AL</td>\n      <td>0</td>\n      <td>Cross-industry</td>\n      <td>cross-industry</td>\n      <td>1235</td>\n      <td>15-2098</td>\n      <td>Data Scientists and Mathematical Science Occup...</td>\n      <td>...</td>\n      <td>43.55</td>\n      <td>50.79</td>\n      <td>58.59</td>\n      <td>56,510</td>\n      <td>74,460</td>\n      <td>90,590</td>\n      <td>105,650</td>\n      <td>121,870</td>\n      <td>NaN</td>\n      <td>NaN</td>\n    </tr>\n  </tbody>\n</table>\n<p>1 rows × 31 columns</p>\n</div>"
     },
     "metadata": {},
     "execution_count": 15
    }
   ],
   "source": [
    "bls_state_data_df = pd.read_csv('state_M2020_dl.csv')\n",
    "state_df = bls_state_data_df.loc[bls_state_data_df[\"AREA_TITLE\"]==\"Alabama\", :]\n",
    "job_in_state_df = state_df.loc[state_df[\"OCC_CODE\"]==\"15-2098\", :]\n",
    "job_in_state_df "
   ]
  },
  {
   "cell_type": "code",
   "execution_count": null,
   "metadata": {},
   "outputs": [],
   "source": []
  }
 ]
}